{
  "nbformat": 4,
  "nbformat_minor": 0,
  "metadata": {
    "colab": {
      "name": "ardicahyono_proyek_model_nlp.ipynb",
      "provenance": [],
      "authorship_tag": "ABX9TyMw6L9ThFPDdgWUQ9oudkSs",
      "include_colab_link": true
    },
    "kernelspec": {
      "name": "python3",
      "display_name": "Python 3"
    },
    "language_info": {
      "name": "python"
    }
  },
  "cells": [
    {
      "cell_type": "markdown",
      "metadata": {
        "id": "view-in-github",
        "colab_type": "text"
      },
      "source": [
        "<a href=\"https://colab.research.google.com/github/ardi-cahyono/proyek-nlp-tf/blob/main/ardicahyono_proyek_model_nlp.ipynb\" target=\"_parent\"><img src=\"https://colab.research.google.com/assets/colab-badge.svg\" alt=\"Open In Colab\"/></a>"
      ]
    },
    {
      "cell_type": "code",
      "execution_count": 3,
      "metadata": {
        "colab": {
          "base_uri": "https://localhost:8080/"
        },
        "id": "WmZMDBYXCGWQ",
        "outputId": "a24d3f19-d1dc-4aa2-9722-924b90264199"
      },
      "outputs": [
        {
          "output_type": "stream",
          "name": "stdout",
          "text": [
            "Proyek Pertama : Membuat Model NLP dengan TensorFlow\n",
            "Nama Lengkap   : Ardi Cahyono\n",
            "Username       : ardi_cahy37\n",
            "Email          : 116190016@student.upnyk.ac.id\n",
            "Domisili       : Kabupaten Sleman, Daerah Istimewa Yogyakarta\n"
          ]
        }
      ],
      "source": [
        "# Menuliskan data diri\n",
        "print('Proyek Pertama : Membuat Model NLP dengan TensorFlow')\n",
        "print('Nama Lengkap   : Ardi Cahyono')\n",
        "print('Username       : ardi_cahy37')\n",
        "print('Email          : 116190016@student.upnyk.ac.id')\n",
        "print('Domisili       : Kabupaten Sleman, Daerah Istimewa Yogyakarta')"
      ]
    },
    {
      "cell_type": "code",
      "source": [
        "# Mengkonversi file dataset menjadi dataframe\n"
      ],
      "metadata": {
        "id": "vGvrIP7wDCDu"
      },
      "execution_count": 4,
      "outputs": []
    },
    {
      "cell_type": "code",
      "source": [
        ""
      ],
      "metadata": {
        "id": "Spm1PxiHHhxO"
      },
      "execution_count": null,
      "outputs": []
    }
  ]
}