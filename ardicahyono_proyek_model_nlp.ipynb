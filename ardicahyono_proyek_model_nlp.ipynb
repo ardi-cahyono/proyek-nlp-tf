{
  "nbformat": 4,
  "nbformat_minor": 0,
  "metadata": {
    "colab": {
      "name": "ardicahyono_proyek_model_nlp.ipynb",
      "provenance": [],
      "authorship_tag": "ABX9TyMwQPYOpj8zR6lq8GQikmjs",
      "include_colab_link": true
    },
    "kernelspec": {
      "name": "python3",
      "display_name": "Python 3"
    },
    "language_info": {
      "name": "python"
    }
  },
  "cells": [
    {
      "cell_type": "markdown",
      "metadata": {
        "id": "view-in-github",
        "colab_type": "text"
      },
      "source": [
        "<a href=\"https://colab.research.google.com/github/ardi-cahyono/proyek-nlp-tf/blob/main/ardicahyono_proyek_model_nlp.ipynb\" target=\"_parent\"><img src=\"https://colab.research.google.com/assets/colab-badge.svg\" alt=\"Open In Colab\"/></a>"
      ]
    },
    {
      "cell_type": "code",
      "execution_count": null,
      "metadata": {
        "colab": {
          "base_uri": "https://localhost:8080/"
        },
        "id": "WmZMDBYXCGWQ",
        "outputId": "842c81af-d42b-41bc-d543-a8319d86343d"
      },
      "outputs": [
        {
          "output_type": "stream",
          "name": "stdout",
          "text": [
            "Proyek Pertama : Membuat Model NLP dengan TensorFlow\n",
            "Nama Lengkap   : Ardi Cahyono\n",
            "Username       : ardi_cahy37\n",
            "TTL            : Wonogiri, 17 Maret 2001\n",
            "Email          : 116190016@student.upnyk.ac.id\n",
            "No. Telepon    : +6282147857570\n",
            "Domisili       : Kabupaten Sleman, Daerah Istimewa Yogyakarta\n"
          ]
        }
      ],
      "source": [
        "# Menuliskan data diri\n",
        "print('Proyek Pertama : Membuat Model NLP dengan TensorFlow')\n",
        "print('Nama Lengkap   : Ardi Cahyono')\n",
        "print('Username       : ardi_cahy37')\n",
        "print('TTL            : Wonogiri, 17 Maret 2001')\n",
        "print('Email          : 116190016@student.upnyk.ac.id')\n",
        "print('No. Telepon    : +6282147857570')\n",
        "print('Domisili       : Kabupaten Sleman, Daerah Istimewa Yogyakarta')"
      ]
    },
    {
      "cell_type": "code",
      "source": [
        "# Mengkonversi file dataset menjadi dataframe\n"
      ],
      "metadata": {
        "id": "vGvrIP7wDCDu"
      },
      "execution_count": null,
      "outputs": []
    },
    {
      "cell_type": "code",
      "source": [
        ""
      ],
      "metadata": {
        "id": "Spm1PxiHHhxO"
      },
      "execution_count": null,
      "outputs": []
    }
  ]
}